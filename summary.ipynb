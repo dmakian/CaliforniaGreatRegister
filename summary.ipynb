{
 "metadata": {
  "name": "",
  "signature": "sha256:3541effc16a98613ebdd1064cab10d5cc73eb43077ed779c5e8ebf78f9367655"
 },
 "nbformat": 3,
 "nbformat_minor": 0,
 "worksheets": [
  {
   "cells": [
    {
     "cell_type": "code",
     "collapsed": false,
     "input": [
      "%matplotlib inline\n",
      "import seaborn as sns\n",
      "import numpy as np\n",
      "import pandas as pd\n",
      "import sys, os, re"
     ],
     "language": "python",
     "metadata": {},
     "outputs": [],
     "prompt_number": 40
    },
    {
     "cell_type": "markdown",
     "metadata": {},
     "source": [
      "# Number of elements per line"
     ]
    },
    {
     "cell_type": "markdown",
     "metadata": {},
     "source": [
      "Let's examine the distribution of row lengths as n-grams.  The output file \"info.log\" contains a record of parsing a county file.  This log file records the length of each line extracted from a page measured in n-grams produced from splitting on whitespace, as well as how many lines were found in a page given our heuristics.  \n",
      "\n",
      "First we will write a regex to extract the line length."
     ]
    },
    {
     "cell_type": "code",
     "collapsed": false,
     "input": [
      "linepattern = r'([0-9]{1,3})\\s(n-grams)'\n",
      "s = '2015-12-29 11:32:28,097 - page_processor - DEBUG - line length is 10 n-grams'"
     ],
     "language": "python",
     "metadata": {},
     "outputs": [],
     "prompt_number": 41
    },
    {
     "cell_type": "code",
     "collapsed": false,
     "input": [
      "result = re.search(linepattern, s)\n",
      "print result.group(1)"
     ],
     "language": "python",
     "metadata": {},
     "outputs": [
      {
       "output_type": "stream",
       "stream": "stdout",
       "text": [
        "10\n"
       ]
      }
     ],
     "prompt_number": 42
    },
    {
     "cell_type": "markdown",
     "metadata": {},
     "source": [
      "This pattern gives us the amount of n-grams that were recorded for a particular row.  Now let's count all the observations "
     ]
    },
    {
     "cell_type": "code",
     "collapsed": false,
     "input": [
      "totals = list()\n",
      "with open('../debug.log', 'rb') as infile:\n",
      "    for line in infile:        \n",
      "        result = re.search(linepattern, line)\n",
      "        if result:\n",
      "            totals.append(int(result.group(1)))"
     ],
     "language": "python",
     "metadata": {},
     "outputs": [],
     "prompt_number": 43
    },
    {
     "cell_type": "code",
     "collapsed": false,
     "input": [
      "len(totals)"
     ],
     "language": "python",
     "metadata": {},
     "outputs": [
      {
       "metadata": {},
       "output_type": "pyout",
       "prompt_number": 44,
       "text": [
        "5724019"
       ]
      }
     ],
     "prompt_number": 44
    },
    {
     "cell_type": "code",
     "collapsed": false,
     "input": [
      "sns.distplot(np.asarray(totals))"
     ],
     "language": "python",
     "metadata": {},
     "outputs": [
      {
       "metadata": {},
       "output_type": "pyout",
       "prompt_number": 45,
       "text": [
        "<matplotlib.axes.AxesSubplot at 0x111bd2b50>"
       ]
      },
      {
       "metadata": {},
       "output_type": "display_data",
       "png": "[encoded data removed]",
       "text": [
        "<matplotlib.figure.Figure at 0x111e73f10>"
       ]
      }
     ],
     "prompt_number": 45
    },
    {
     "cell_type": "markdown",
     "metadata": {},
     "source": [
      "# Number of rows found per page"
     ]
    },
    {
     "cell_type": "code",
     "collapsed": false,
     "input": [
      "pagepattern = r'([0-9]{1,3})\\s(lines found)'\n",
      "total_lines = list()\n",
      "with open('../debug.log', 'rb') as infile:\n",
      "    for line in infile:        \n",
      "        result = re.search(pagepattern, line)\n",
      "        if result:\n",
      "            total_lines.append(int(result.group(1)))"
     ],
     "language": "python",
     "metadata": {},
     "outputs": [],
     "prompt_number": 46
    },
    {
     "cell_type": "code",
     "collapsed": false,
     "input": [
      "sns.distplot(np.asarray(total_lines))"
     ],
     "language": "python",
     "metadata": {},
     "outputs": [
      {
       "metadata": {},
       "output_type": "pyout",
       "prompt_number": 47,
       "text": [
        "<matplotlib.axes.AxesSubplot at 0x111edda50>"
       ]
      },
      {
       "metadata": {},
       "output_type": "display_data",
       "png": "[encoded data removed]",
       "text": [
        "<matplotlib.figure.Figure at 0x111bc5250>"
       ]
      }
     ],
     "prompt_number": 47
    },
    {
     "cell_type": "code",
     "collapsed": false,
     "input": [],
     "language": "python",
     "metadata": {},
     "outputs": []
    }
   ],
   "metadata": {}
  }
 ]
}